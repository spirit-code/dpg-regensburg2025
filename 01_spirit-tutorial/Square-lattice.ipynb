{
 "cells": [
  {
   "cell_type": "markdown",
   "id": "688b0fbf-9356-4653-b9a5-df071615b5bd",
   "metadata": {},
   "source": [
    "# Square lattice \n",
    "\n",
    "In this tutorial, we explore the Heisenberg model on a square lattice, focusing on the role of exchange interactions, magnetic anistropy, and the Dzyaloshinskii–Moriya interaction in magnetic systems. \n",
    "\n",
    "The Heisenberg Hamiltonian\n",
    "$$\n",
    "H = - \\sum_{\\langle i, j \\rangle} J_{ij} \\mathbf{n}_i \\cdot \\mathbf{n}_j  -  \\sum_{\\langle i,j \\rangle} D_{ij} \\cdot  (\\mathbf{n}_i \\times \\mathbf{n}_j)- \\sum_i K_i (n_i^z)^2 \n",
    "$$\n",
    "\n",
    "Where J is the exchange interactions, D is the DMI, K is the magnetic anisotropy, and n_i  is the spin at site i. \n"
   ]
  },
  {
   "cell_type": "markdown",
   "id": "52351791-7691-4402-8ef5-998e9a1c8339",
   "metadata": {},
   "source": [
    "<h3 style=\"color:blue;\">System setup</h3>\n",
    "\n",
    "\n",
    "The lattice constant = 1.00 Å\n",
    "\n",
    "<p align=\"center\">\n",
    "    <img src=\"./assets/DMI_Jij.png\" alt=\"Square Lattice with Nearest Neighbors and DMI Vectors\" style=\"display: block; margin-left: auto; margin-right: auto; width:80%;\">\n",
    "</p>\n",
    "\n",
    "The magnetic interactions: \n",
    " \n",
    "| Interaction | Value (meV) |\n",
    "|------------|-------------|\n",
    "| J1        | 4.0           |\n",
    "| J2        | 1.0           |\n",
    "| D1        | 0.4         |\n",
    "| D2        | 0.0           |\n",
    "| K         | 0.12        |\n",
    "\n",
    "To specify the Dzyaloshinskii-Moriya interaction vector, we need to know something about the symmetry (Assuming $( C_{4v} $)symmetry), the DMI vectors shown in the right figure.\n"
   ]
  },
  {
   "cell_type": "markdown",
   "id": "156e5e02-e63f-4488-b2d2-381c44ba7fdc",
   "metadata": {},
   "source": [
    "<h3 style=\"color:blue;\">Setting up the input file</h3>\n",
    "\n",
    "\n",
    "##### 1. In the input file called `input.cfg` define the geometry: \n",
    "\n",
    "################### Geometry #####################\n",
    "\n",
    "`lattice_constant 1.00`\n",
    "\n",
    "##The Bravais lattice type\n",
    "\n",
    "bravais_vectors\n",
    "\n",
    "`| 1.000000 |  0.000000 | 0.000000 |`  \n",
    "`| 0.000000 |  1.000000 | 0.000000 |`  \n",
    "`| 0.000000 |  0.000000 | 0.000000 |` \n",
    "\n",
    "basis  \n",
    "`1  ` (**Number of atoms per unit cell**) \n",
    "\n",
    "`0.00000000   0.000000   0.00000`\n",
    "\n",
    "##Number of basis cells along principal directions (a, b, c)\n",
    "\n",
    "`n_basis_cells 100 100 1` ( **This indicates the size of the cell**) \n",
    "\n",
    "################## End Geometry ###################\n",
    "\n",
    "\n",
    "\n",
    "\n",
    "##### 2.  Define the number of interaction pairs:\n",
    "\n",
    "- `n_interaction_pairs = 8`\n",
    "\n",
    "| i | j | da  | db  | dc  | Jij  | Dijx | Dijy | Dijz |\n",
    "|---|---|----|----|----|------|------|------|------|\n",
    "| 0 | 0 | -1 |  0  |  0  | 4.0 |  0   | -1.0 |  0   |\n",
    "| 0 | 0 |  0 |  1  |  0  | 4.0 | -1.0 |  0   |  0   |\n",
    "| 0 | 0 |  0 | -1  |  0  | 4.0 |  1.0 |  0   |  0   |\n",
    "| 0 | 0 |  1 |  0  |  0  | 4.0 |  0   |  1.0 |  0   |\n",
    "| 0   | 0   | -1  | 1   | 0   | 1.0  |  0   | 0 |  0   |\n",
    "| 0   | 0   | -1  | -1  | 0   | 1.0  |  0   | 0 |  0   |\n",
    "| 0   | 0   | 1   | 1   | 0   | 1.0  |  0   | 0 |  0   |\n",
    "| 0   | 0   | 1   | -1  | 0   | 1.0  |  0   | 0 |  0   |\n",
    "\n",
    "\n",
    "##### 3. Locate the relevant section, set **K = 1 meV**, and align it along the Z-direction by putting the normal as **0.0 0.0 1.0**:\n",
    "\n",
    "Uniaxial anisotropy constant [meV]  \n",
    "`anisotropy_magnitude` 1.0  \n",
    "`anisotropy_normal` 0.0 0.0 1.0  \n"
   ]
  },
  {
   "cell_type": "markdown",
   "id": "45554797-53d6-48d6-84c0-8f89fdee008b",
   "metadata": {},
   "source": [
    "#### Check the parts of the input.cfg file \n"
   ]
  },
  {
   "cell_type": "code",
   "execution_count": null,
   "id": "e4329ef2-6e0b-4697-bd7d-439c208e3786",
   "metadata": {},
   "outputs": [],
   "source": [
    "!sed -n '28,97p' input.cfg"
   ]
  },
  {
   "cell_type": "markdown",
   "id": "623472e7-5543-4ff0-9c90-9e540627865e",
   "metadata": {},
   "source": [
    "<h3 style=\"color:blue;\">Run the spirit code to minimize the energy</h3>  \n",
    "\n",
    "After the input files have been prepared, one can explore the magnetic states that are stabilized within the set of magnetic interactions by minimizing the Heisenberg Hamiltonian, utilizing the Landau-Lifschitz-Gilbert (LLG) equation:\n",
    "\n",
    "$$\n",
    "\\frac{d\\mathbf{n}_i}{dt} = \n",
    "- \\frac{\\gamma}{(1 + \\alpha^2)m_i} \\mathbf{n}_i \\times \\mathbf{B}^i_{\\text{eff}} \n",
    "- \\frac{\\gamma \\alpha}{(1 + \\alpha^2)m_i} \\mathbf{n}_i \\times (\\mathbf{n}_i \\times \\mathbf{B}^i_{\\text{eff}})\n",
    "- \\frac{\\gamma \\alpha \\eta}{(1 + \\alpha^2)} \\mathbf{n}_i \\times \\mathbf{n}_p\n",
    "+ \\frac{\\gamma \\eta}{(1 + \\alpha^2)} \\mathbf{n}_i \\times (\\mathbf{n}_i \\times \\mathbf{n}_p)\n",
    "$$\n",
    "\n",
    "Explanation of Terms\n",
    "1. **Precessional Term**: The first term describes the precessional motion of the spin around the effective field \\( \\mathbf{B}^i_{\\text{eff}} \\) due to the torque induced by the field.\n",
    "2. **Damping Term**: The second term represents the damping effect, which causes the spin to relax towards the direction of the effective field.\n",
    "3. **Spin-Transfer Torque (STT) Terms**: The third and fourth terms correspond to the adiabatic and non-adiabatic spin-transfer torques, which arise when a spin current is present, influencing the spin dynamics.\n"
   ]
  },
  {
   "cell_type": "code",
   "execution_count": null,
   "id": "0cebbf5e-ffbf-404d-90e5-d6b891bb3e41",
   "metadata": {},
   "outputs": [],
   "source": [
    "from spirit import state, configuration, simulation, io\n",
    "\n",
    "#change the solver\n",
    "\n",
    "input_file = \"./input.cfg\"\n",
    "with state.State(input_file, quiet=True) as p_state:\n",
    "    ... # Insert a suitable starting configuration and minimize its energy\n",
    "    simulation.start(p_state, simulation.METHOD_LLG, simulation.SOLVER_VP)\n",
    "    io.image_write(p_state, \"skyrmion.ovf\")"
   ]
  },
  {
   "cell_type": "markdown",
   "id": "79a1dec4-2c73-4fdf-83c9-e26b257f977b",
   "metadata": {},
   "source": [
    "The magnetic structure is now saved in the output file named `skyrmion.ovf`.  \n",
    "\n",
    "To visualize the magnetic structure, open a terminal and run the following command:\n",
    "\n",
    "`spirit -f input.cfg -i skyrmion.ovf`\n",
    "\n",
    "The expected output: \n",
    "\n",
    "<p align=\"center\">\n",
    "    <img src=\"./assets/skyrmion.png\" alt=\"FM state\" style=\"display: block; margin-left: auto; margin-right: auto; width:40%;\">\n",
    "</p>\n"
   ]
  },
  {
   "cell_type": "markdown",
   "id": "d88d75bc-0bd5-4070-93af-4400cada0aea",
   "metadata": {},
   "source": [
    "<h2 style=\"color:blue;\">Examples</h2> "
   ]
  },
  {
   "cell_type": "markdown",
   "id": "8346b669-d203-42da-b3bb-852f81068a76",
   "metadata": {},
   "source": [
    "### Tutorial 1: Skyrmion in Pd/Fe/Ir(111)\n",
    "\n",
    "In this tutorial, we will reproduce Malottki et. al. (Enhanced skyrmion stability due to exchange frustration JO - Scientific Reports 2017, https://rdcu.be/d9rHc).\n",
    "\n",
    "\n",
    "### Tutorial 2: Influence of Magnetic Field on Skyrmion Size \n",
    "\n",
    "This tutorial explores how the size of a skyrmion changes under an applied magnetic field.\n",
    "\n",
    "\n",
    "### Tutorial 3: Dynamics of the Skyrmion \n",
    "\n",
    "This tutorial investigates the motion and behavior of skyrmions under various external influences, such as electric currents.\n",
    "\n",
    "### Tutorial 4: Monte Carlo simulations \n",
    "\n",
    "This tutorial demonstrates how to use a Monte Carlo simulation to calculate the Curie Temperature and characterize the Uniaxial Anisotropy.\n"
   ]
  },
  {
   "cell_type": "code",
   "execution_count": null,
   "id": "0ae7f2cb-421f-4573-aa68-2b264f29a971",
   "metadata": {},
   "outputs": [],
   "source": []
  }
 ],
 "metadata": {
  "kernelspec": {
   "display_name": "Python 3 (ipykernel)",
   "language": "python",
   "name": "python3"
  },
  "language_info": {
   "codemirror_mode": {
    "name": "ipython",
    "version": 3
   },
   "file_extension": ".py",
   "mimetype": "text/x-python",
   "name": "python",
   "nbconvert_exporter": "python",
   "pygments_lexer": "ipython3",
   "version": "3.13.0"
  }
 },
 "nbformat": 4,
 "nbformat_minor": 5
}
