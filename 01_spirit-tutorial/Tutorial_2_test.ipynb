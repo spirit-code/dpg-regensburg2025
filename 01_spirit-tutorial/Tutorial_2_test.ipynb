{
 "cells": [
  {
   "cell_type": "markdown",
   "id": "688b0fbf-9356-4653-b9a5-df071615b5bd",
   "metadata": {},
   "source": [
    "# Tutorial 2: Influence of Magnetic Field on Skyrmion Size\n",
    "\n",
    "In this tutorial, we investigate the effect of an external magnetic field pointing in the z-direction on the radius of both FM skyrmion and AFM skyrmion on a square lattice.\n",
    "\n",
    "The Heisenberg Hamiltonian includes an additional term, which is the Zeeman term (highlighted in red):\n",
    "\n",
    "$$\n",
    "H = - \sum_{\langle i, j \rangle} J_{ij} \mathbf{S}_i \cdot \mathbf{S}_j  \n",
    "-  \sum_{\langle i,j \rangle} D_{ij} \cdot  (\mathbf{S}_i \times \mathbf{S}_j)\n",
    "- \sum_i K_i (S_i^z)^2 \n",
    "- \textcolor{red}{\sum_i \mathbf{B} \cdot \mathbf{S}_i}\n",
    "$$\n",
    "\n",
    "The last term represents the Zeeman interaction."
   ]
  },
  {
   "cell_type": "markdown",
   "id": "52351791-7691-4402-8ef5-998e9a1c8339",
   "metadata": {},
   "source": [
    "## FM Skyrmion Simulation\n",
    "\n",
    "We start with an **FM skyrmion**, where the spins are saved in the file **FM_skyrmion.ovf**. The interactions are given below:\n",
    "\n",
    "| Interaction | Value (meV) |\n",
    "|------------|-------------|\n",
    "| J        | 4           |\n",
    "| D        | 0.4         |\n",
    "| K         | 0.12       |\n"
   ]
  },
  {
   "cell_type": "code",
   "execution_count": null,
   "id": "d1ae4b80-3fc7-4680-a997-b34c9e246aea",
   "metadata": {},
   "outputs": [],
   "source": [
    "# Display interaction values from the input file\n",
    "!sed -n '48,49p' input_FM_skyrmion.cfg"
   ]
  },
  {
   "cell_type": "markdown",
   "id": "156e5e02-e63f-4488-b2d2-381c44ba7fdc",
   "metadata": {},
   "source": [
    "## Running the FM Skyrmion Simulation\n",
    "\n",
    "The Python script **\"Magnetic_field_FM_skyrmion.py\"** executes the simulation, which:\n",
    "\n",
    "1. Reads the input file **input_FM_skyrmion.cfg**.\n",
    "2. Loads the initial spin configuration from **FM_skyrmion.ovf**.\n",
    "3. Applies an out-of-plane magnetic field ranging from **0.0 to 2.4 meV** in steps of **0.2 meV**.\n",
    "4. Runs an Atomistic Spin Dynamics (ASD) simulation to minimize the system energy.\n",
    "5. Saves the final converged spin configurations in **spins_B{B:.2f}.ovf**.\n"
   ]
  }
 ],
 "metadata": {
  "kernelspec": {
   "display_name": "Python 3 (ipykernel)",
   "language": "python",
   "name": "python3"
  },
  "language_info": {
   "name": "python",
   "version": "3.13.0"
  }
 },
 "nbformat": 4,
 "nbformat_minor": 5
}
