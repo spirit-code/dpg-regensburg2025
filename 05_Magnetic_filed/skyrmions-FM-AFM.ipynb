{
 "cells": [
  {
   "cell_type": "markdown",
   "id": "688b0fbf-9356-4653-b9a5-df071615b5bd",
   "metadata": {},
   "source": [
    "# Tutorial 2: Influence of magnetic field on FM and AFM skyrmions size \n",
    "\n",
    "In this tutorial, we will investigate the effect of an external magnetic field pointing in the z direction on the radius of both FM skyrmion and AFM skyrmion on a square lattice.\n",
    "\n",
    "The Heisenberg Hamiltonian includes an additional term, which is the Zeeman term that is colored in red:\n",
    "\n",
    "$$\n",
    "H = - \\sum_{\\langle i, j \\rangle} J_{ij} \\mathbf{S}_i \\cdot \\mathbf{S}_j  \n",
    "-  \\sum_{\\langle i,j \\rangle} D_{ij} \\cdot  (\\mathbf{S}_i \\times \\mathbf{S}_j)\n",
    "- \\sum_i K_i (S_i^z)^2 \n",
    "- \\textcolor{red}{\\sum_i \\mathbf{B} \\cdot \\mathbf{S}_i}\n",
    "$$\n",
    "\n",
    "The last term represents the Zeeman interaction.\n",
    "\n"
   ]
  },
  {
   "cell_type": "markdown",
   "id": "52351791-7691-4402-8ef5-998e9a1c8339",
   "metadata": {},
   "source": [
    "## FM skyrmion\n",
    "\n",
    "The starting point is the FM skyrmion shown below, where the spins are saved in **FM_skyrmion.ovf** spin file.\n",
    "The magnetic interactions among the atoms are as shown below, where the DMI vector components stabilize the Bloch skyrmion as shown in Tutorial one. \n",
    "\n",
    "\n",
    "<p align=\"center\">\n",
    "    <img src=\"./assets/bloch.png\" alt=\"Bloch skyrmion\" style=\"display: block; margin-left: auto; margin-right: auto; width:20%;\">\n",
    "</p>\n",
    "\n",
    "The magnetic interactions among the atoms are as shown below: \n",
    "\n",
    "| Interaction | Value (meV) |\n",
    "|------------|-------------|\n",
    "| J        | 4           |\n",
    "| D        | 0.4         |\n",
    "| K         | 0.12       |\n"
   ]
  },
  {
   "cell_type": "markdown",
   "id": "bb55d300-a640-4fe6-8ed9-104b201571cd",
   "metadata": {},
   "source": [
    "The interactions are read in the input file from an external file **Square_FM.txt**"
   ]
  },
  {
   "cell_type": "code",
   "execution_count": null,
   "id": "d1ae4b80-3fc7-4680-a997-b34c9e246aea",
   "metadata": {},
   "outputs": [],
   "source": [
  "!sed -n '48,49p' input_FM_skyrmion.cfg"
   ]
  },
  {
   "cell_type": "markdown",
   "id": "156e5e02-e63f-4488-b2d2-381c44ba7fdc",
   "metadata": {},
   "source": [
    "By running the Python script **\"Magnetic_field_FM_skyrmion.py\"**, the script performs the following steps:\n",
    "\n",
    "1. Reads the input file **\"input_FM_skyrmion.cfg\"**.\n",
    "2. Loads the initial magnetic state from **\"FM_skyrmion.ovf\"**.\n",
    "3. Applies an out-of-plane (OOP) magnetic field, varying from **0.0 to 2.4 meV** in steps of **0.2 meV**.\n",
    "4. Starts the Atomistic Spin Dynamics (ASD) simulation to minimize the system's energy.\n",
    "5. Writes the converged spin configurations as **\"spins_B{B:.2f}.ovf\"**."
   ]
  },
  {
   "cell_type": "code",
   "execution_count": null,
   "id": "f6f155cf-3e66-49e9-81ad-9df2465a7855",
   "metadata": {},
   "outputs": [],
   "source": [
    "from Magnetic_field_FM_skyrmion import *\n",
    "\n",
    "# Simulation setup\n",
    "cfgfile = \"input_FM_skyrmion.cfg\"\n",
    "quiet = True\n",
    "B_values = np.arange(0.00, 2.4, 0.2)\n",
    "radii = []\n",
    "\n",
    "for B in B_values:\n",
    "    with state.State(cfgfile, quiet) as p_state:\n",
    "        io.image_read(p_state, \"FM_skyrmion.ovf\")\n",
    "        hamiltonian.set_field(p_state, B, [0, 0, 1], idx_image=-1, idx_chain=-1)\n",
    "        simulation.start(p_state, simulation.METHOD_LLG, simulation.SOLVER_LBFGS_OSO)\n",
    "        system.update_data(p_state)\n",
    "        spin_file = f\"spins_B{B:.2f}.ovf\"\n",
    "        io.image_write(p_state, spin_file)\n",
    "        positions = geometry.get_positions(p_state)\n",
    "        spins = np.loadtxt(spin_file)\n",
    "\n",
    "        profile, radius, popt = get_profile(positions, spins, f\"B{B:.2f}\")\n",
    "        radii.append(radius)\n",
    "\n",
    "# Filter out zero radius values before plotting\n",
    "valid_B_values = []\n",
    "valid_radii = []\n",
    "\n",
    "for B, radius in zip(B_values, radii):\n",
    "    if radius > 0:  # Exclude zero radius values\n",
    "        valid_B_values.append(B)\n",
    "        valid_radii.append(radius)\n",
    "\n",
    "# Plot radius vs B value only for nonzero radii\n",
    "plt.figure(figsize=(10, 6))\n",
    "plt.plot(valid_B_values, valid_radii, marker='o')\n",
    "plt.title('Radius vs B Value')\n",
    "plt.xlabel('B Value')\n",
    "plt.ylabel('Radius (Angs)')\n",
    "plt.grid()\n",
    "plt.savefig('radius_vs_B.png')\n",
    "plt.show()"
   ]
  },
  {
   "cell_type": "markdown",
   "id": "69678fc3-af5e-4add-9749-981dceae0f18",
   "metadata": {},
   "source": [
    "6. Plots the resulting magnetic state at each magnetic field value, indicating the skyrmion radius if it still exists as shown in the figure below.\n",
    "\n",
    "<p align=\"center\">\n",
    "    <img src=\"./assets/Bloch-example.png\" alt=\"Bloch skyrmion\" style=\"display: block; margin-left: auto; margin-right: auto; width:30%;\">\n",
    "</p>\n",
    "\n",
    "\n",
    "   \n",
    "7. Generates a final plot of **magnetic field strength vs. skyrmion radius**.\n",
    "\n",
    "<p align=\"center\">\n",
    "    <img src=\"./assets/raduis.png\" alt=\"Bloch skyrmion\" style=\"display: block; margin-left: auto; margin-right: auto; width:30%;\">\n",
    "</p>\n"
   ]
  },
  {
   "cell_type": "markdown",
   "id": "cf4d1f27-fd5d-4c80-a63f-42d3d4447860",
   "metadata": {},
   "source": [
    "# AFM skyrmion:\n",
    "In this part, we do the same as has been done in the first part, but here we apply the magnetic field on an AFM skyrmion.\n",
    "The interactions for this example are as shown below, which are needed to satbilize a Néel  AFM skyrmion on a square lattice.\n",
    "The interactions are saved in **Square_AFM.txt** file  \n",
    "\n",
    "\n",
    " \n",
    "| Interaction | Value (meV) |\n",
    "|------------|-------------|\n",
    "| J1        | -6           |\n",
    "| J2        | 2          |\n",
    "| D1        | 0.02         |\n",
    "| D2        | 0.08           |\n",
    "| K         | 0.006        |\n",
    "\n",
    "\n",
    "Those interactions stabilize a Néel skyrmion on a square lattice as shown below: \n",
    "\n",
    "\n",
    "<p align=\"center\">\n",
    "    <img src=\"./assets/AFM_skyrmion.png\" alt=\"AFM skyrmion\" style=\"display: block; margin-left: auto; margin-right: auto; width:30%;\">\n",
    "</p>\n"
   ]
  },
  {
   "cell_type": "markdown",
   "id": "b16f369c-4cb7-48a6-94ec-2d82563f2d00",
   "metadata": {},
   "source": [
    "By executing the Python script **Magnetic_field_AFM_skyrmion.py**, you can observe the impact of the out-of-plane (OOP) magnetic field on the radius of AFM skyrmions by examining the plots corresponding to different magnetic field strengths.\n",
    "\n",
    "<p align=\"center\">\n",
    "    <img src=\"./assets/afm_sky-B.png\" alt=\"AFM skyrmion\" style=\"display: block; margin-left: auto; margin-right: auto; width:30%;\">\n",
    "</p>"
   ]
  },
  {
   "cell_type": "code",
   "execution_count": null,
   "id": "33499dfa-2c7f-454c-b1dd-5f41940325c4",
   "metadata": {},
   "outputs": [],
   "source": []
  }
 ],
 "metadata": {
  "kernelspec": {
   "display_name": "Python 3 (ipykernel)",
   "language": "python",
   "name": "python3"
  },
  "language_info": {
   "codemirror_mode": {
    "name": "ipython",
    "version": 3
   },
   "file_extension": ".py",
   "mimetype": "text/x-python",
   "name": "python",
   "nbconvert_exporter": "python",
   "pygments_lexer": "ipython3",
   "version": "3.13.0"
  }
 },
 "nbformat": 4,
 "nbformat_minor": 5
}
